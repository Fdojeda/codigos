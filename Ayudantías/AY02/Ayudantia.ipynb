{
 "cells": [
  {
   "cell_type": "markdown",
   "metadata": {
    "slideshow": {
     "slide_type": "slide"
    }
   },
   "source": [
    "## Ayudantía 02:  Programación Orientada a Objetos I\n",
    "\n",
    "#### Autores: @Alonsinho1 & @Dnpoblete & @tocococa"
   ]
  },
  {
   "cell_type": "markdown",
   "metadata": {
    "slideshow": {
     "slide_type": "subslide"
    }
   },
   "source": [
    "Primero ingresemos a menti https://www.mentimeter.com/s/73efc8930fb708f348e70cc6b752ce52/94033c83f828 o ingrese el código: **'38 30 86 6'**"
   ]
  },
  {
   "cell_type": "markdown",
   "metadata": {
    "slideshow": {
     "slide_type": "slide"
    }
   },
   "source": [
    "Esta ayudantía tiene como propósito que aprendan y/o repasen los **conceptos básicos de clases en python**."
   ]
  },
  {
   "cell_type": "markdown",
   "metadata": {
    "slideshow": {
     "slide_type": "slide"
    }
   },
   "source": [
    "### ¿Qué significa programación orientada a objetos?\n",
    "\n",
    "Como ya habrán escuchado, python es un lenguaje orientado a objetos.\n",
    "\n",
    "Sin embargo, ¿Qué significa esto? \n",
    "\n",
    "Básicamente siginifica que **python es un lenguaje que hace sus procedimientos en base a objetos**, por lo que casi todas las estructuras se definen a partir de estos."
   ]
  },
  {
   "cell_type": "markdown",
   "metadata": {
    "slideshow": {
     "slide_type": "slide"
    }
   },
   "source": [
    "### Probablemente se preguntaran ¿Qué es un Objeto?\n",
    "\n",
    "Los objetos en nuestra vida cotidiana son fáciles de identificar, ya que son todas esas cosas, entidades, etc, que nos rodean. \n",
    "\n",
    "Tenemos una intuición sobre lo que es un objeto, pero ahora lo **definiremos concretamente en el contexto de la programación.**\n",
    "\n",
    "\n"
   ]
  },
  {
   "cell_type": "markdown",
   "metadata": {
    "slideshow": {
     "slide_type": "subslide"
    }
   },
   "source": [
    "Definición de __Objeto__ : \n",
    "\n",
    "Es una **estructura que permite almacenar información y acceder rapidamente a ella**, pero espera... ¡Hay más!\n",
    "\n",
    "Los objetos también pueden realizar acciones conocidas como métodos, pueden interaccionar con otros objetos, contener a otras estructuras e incluso definir ciertas propiedades de su propio comportamiento."
   ]
  },
  {
   "cell_type": "code",
   "execution_count": 3,
   "metadata": {
    "slideshow": {
     "slide_type": "slide"
    }
   },
   "outputs": [
    {
     "name": "stdout",
     "output_type": "stream",
     "text": [
      "Antes de ejecutar los métodos:\n",
      "1000\n",
      "0 \n",
      "\n",
      "¡Estoy en descuento!\n",
      "Brm brmmmm he avanzado 20 Km\n",
      "\n",
      "Después de ejecutar los métodos:\n",
      "500.0\n",
      "20\n"
     ]
    }
   ],
   "source": [
    "class Auto:\n",
    "    \n",
    "    def __init__(self, marca, nombre, color, kilometraje):\n",
    "        \n",
    "        self.marca = marca\n",
    "        self.nombre = nombre\n",
    "        self.color = color\n",
    "        self.kilometraje = kilometraje\n",
    "        self.costo = 1000\n",
    "        self.vendido = False\n",
    "        \n",
    "    def descuento_magico(self):\n",
    "        print(\"¡Estoy en descuento!\")\n",
    "        self.costo *= 0.5\n",
    "        \n",
    "    def aumentar_kilometraje(self, kilometros):\n",
    "        print(\"Brm brmmmm he avanzado\", kilometros, \"Km\")\n",
    "        self.kilometraje += kilometros\n",
    "         \n",
    "\n",
    "el_rayo = Auto(\"Herby a toda marcha\", \"El rayo maqueen\", \"Mate como tomate\", 0)\n",
    "\n",
    "print(\"Antes de ejecutar los métodos:\")\n",
    "\n",
    "print(el_rayo.costo)\n",
    "\n",
    "print(el_rayo.kilometraje,\"\\n\")\n",
    "\n",
    "el_rayo.descuento_magico()\n",
    "\n",
    "el_rayo.aumentar_kilometraje(20)\n",
    "\n",
    "print(\"\\nDespués de ejecutar los métodos:\")\n",
    "\n",
    "print(el_rayo.costo)\n",
    "\n",
    "print(el_rayo.kilometraje)"
   ]
  },
  {
   "cell_type": "code",
   "execution_count": 2,
   "metadata": {
    "slideshow": {
     "slide_type": "slide"
    }
   },
   "outputs": [
    {
     "name": "stdout",
     "output_type": "stream",
     "text": [
      "Es millonario: False\n",
      "Es millonario: False\n",
      "Es millonario: False\n"
     ]
    }
   ],
   "source": [
    "class Persona:\n",
    "    \n",
    "    def __init__(self, nombre, edad):\n",
    "        \n",
    "        self.nombre = nombre\n",
    "        self.edad = edad\n",
    "        self.autos = []\n",
    "        self.dinero = 2000\n",
    "        self.millonario = self.es_millonario()\n",
    "        print(\"Es millonario:\", self.millonario)\n",
    "        \n",
    "    def es_millonario(self):\n",
    "        \n",
    "        if self.dinero >= 1000000:\n",
    "            return True\n",
    "        \n",
    "        else:\n",
    "            return False\n",
    "        \n",
    "    def aportar_dinero_auto(self, cantidad, auto):\n",
    "        print(\"He comprado al auto\", auto.nombre)\n",
    "        auto.costo -= cantidad\n",
    "        self.dinero -= cantidad\n",
    "        if auto.costo == 0:\n",
    "            self.autos.append(auto)\n",
    "            auto.vendido = True\n",
    "            \n",
    "Alonsinho = Persona(\"Alonsinho\", 22)\n",
    "Dnpoblete = Persona(\"Dnpoblete\", 22)\n",
    "tocococa = Persona(\"tocococa\", 22)\n",
    "        "
   ]
  },
  {
   "cell_type": "markdown",
   "metadata": {
    "slideshow": {
     "slide_type": "slide"
    }
   },
   "source": [
    "### El código anterior tiene algunos problemas de modelación. \n",
    "\n",
    "### ¿Puedes notar donde está el problema ?\n",
    "\n",
    "### ¡Exactamente! El problema radica en que se ignoran las propiedades de los atributos.\n",
    "\n",
    "Una solución sería que cada vez que queramos utilizar los atributos definamos los métodos con bloques condicionales (*if*-*else*). No obstante esto no es para nada óptimo en código.... Por esto es que existen las *__properties__*."
   ]
  },
  {
   "cell_type": "markdown",
   "metadata": {
    "slideshow": {
     "slide_type": "slide"
    }
   },
   "source": [
    "\n",
    "### ¡Exactamente! El problema radica en que se ignoran las propiedades de los atributos.\n",
    "\n",
    "Una solución sería que cada vez que queramos utilizar los atributos definamos los métodos con bloques condicionales (*if*-*else*). No obstante esto no es para nada óptimo en código.... Por esto es que existen las *__properties__*."
   ]
  },
  {
   "cell_type": "code",
   "execution_count": 2,
   "metadata": {
    "slideshow": {
     "slide_type": "slide"
    },
    "tags": []
   },
   "outputs": [
    {
     "name": "stdout",
     "output_type": "stream",
     "text": [
      "9999\n",
      "0\n"
     ]
    }
   ],
   "source": [
    "class Auto:\n",
    "    \n",
    "    def __init__(self, marca, nombre, color, kilometraje):\n",
    "        \n",
    "        self.marca = marca\n",
    "        self.nombre = nombre\n",
    "        self.color = color\n",
    "        self.kilometraje = kilometraje\n",
    "        self.__costo = 1000\n",
    "        self.vendido = False\n",
    "        \n",
    "    def descuento_magico(self):\n",
    "        print(\"¡Estoy en descuento!\")\n",
    "        self.costo *= 0.5\n",
    "        \n",
    "    def aumentar_kilometraje(self, kilometros):\n",
    "        print(\"Brm brmmmm he avanzado\", kilometros, \"Km\")\n",
    "        self.kilometraje += kilometros\n",
    "    \n",
    "    @property\n",
    "    def costo(self):\n",
    "        return self.__costo\n",
    "    \n",
    "    @costo.setter\n",
    "    def costo(self, nuevo_costo):\n",
    "        if nuevo_costo > 9999:\n",
    "            self.__costo = 9999\n",
    "        elif nuevo_costo < 0:\n",
    "            self.__costo = 0\n",
    "        else:\n",
    "            self.__costo = nuevo_costo\n",
    "\n",
    "el_rayo = Auto(\"Herby a toda marcha\", \"El rayo maqueen\", \"Mate como tomate\", 0)\n",
    "\n",
    "\n",
    "el_rayo.costo += 1000000\n",
    "print(el_rayo.costo)\n",
    "\n",
    "el_rayo.costo = el_rayo.costo - 100000\n",
    "print(el_rayo.costo)\n",
    "    \n",
    "    "
   ]
  },
  {
   "cell_type": "code",
   "execution_count": 5,
   "metadata": {
    "slideshow": {
     "slide_type": "slide"
    }
   },
   "outputs": [
    {
     "name": "stdout",
     "output_type": "stream",
     "text": [
      "Es millonario: False\n",
      "Es millonario: False\n",
      "Es millonario: False\n",
      "9999\n",
      "0\n"
     ]
    }
   ],
   "source": [
    "class Persona:\n",
    "    \n",
    "    def __init__(self, nombre, edad):\n",
    "        \n",
    "        self.nombre = nombre\n",
    "        self.edad = edad\n",
    "        self.autos = []\n",
    "        self.__dinero = 2000\n",
    "        self.millonario = self.es_millonario()\n",
    "        print(\"Es millonario:\", self.millonario)\n",
    "        \n",
    "    def es_millonario(self):\n",
    "        \n",
    "        if self.dinero >= 1000000:\n",
    "            return True\n",
    "        \n",
    "        else:\n",
    "            return False\n",
    "        \n",
    "    def aportar_dinero_auto(self, cantidad, auto):\n",
    "        print(\"He comprado al auto\", auto.nombre)\n",
    "        auto.costo -= cantidad\n",
    "        self.dinero -= cantidad\n",
    "        if auto.costo == 0:\n",
    "            self.autos.append(auto)\n",
    "            auto.vendido = True\n",
    "            \n",
    "    @property\n",
    "    def dinero(self):\n",
    "        return self.__dinero\n",
    "    \n",
    "    @dinero.setter\n",
    "    def dinero(self, nuevo_monto):\n",
    "        if nuevo_monto > 9999:\n",
    "            self.__dinero = 9999\n",
    "        elif nuevo_monto < 0:\n",
    "            self.__dinero = 0\n",
    "        else:\n",
    "            self.__dinero = nuevo_monto\n",
    "            \n",
    "Alonsinho = Persona(\"Alonsinho\", 22)\n",
    "Dnpoblete = Persona(\"Dnpoblete\", 22)\n",
    "tocococa = Persona(\"tocococa\", 22)\n",
    "\n",
    "Alonsinho.dinero += 1000000\n",
    "print(Alonsinho.dinero)\n",
    "\n",
    "Alonsinho.dinero = Alonsinho.dinero - 100000\n",
    "print(Alonsinho.dinero)\n",
    "    "
   ]
  },
  {
   "cell_type": "markdown",
   "metadata": {
    "slideshow": {
     "slide_type": "slide"
    }
   },
   "source": [
    "### ¿Qué pasa si queremos un nuevo tipo de auto? ¡Heredamos!\n"
   ]
  },
  {
   "cell_type": "markdown",
   "metadata": {
    "slideshow": {
     "slide_type": "subslide"
    }
   },
   "source": [
    "**La herencia nos permite especializar o generalizar una clase**, así tenemos una clase que hereda atributos y métodos de otra, pero con la libertad de agregar nuevos métodos y atributos, o de modificar los que se heredan. De esta forma podemos aprovechar lo que hemos escrito anteriormente y simplificar nuestro código."
   ]
  },
  {
   "cell_type": "code",
   "execution_count": 3,
   "metadata": {
    "slideshow": {
     "slide_type": "slide"
    }
   },
   "outputs": [],
   "source": [
    "# Si queremos heredar para crear una nueva subclase hacemos lo siguiente:\n",
    "\n",
    "\n",
    "class AutoElectrico(Auto):\n",
    "    def __init__(self, marca, nombre, color, kilometraje):\n",
    "        Auto.__init__(self, marca, nombre, color, kilometraje)\n",
    "        # super().__init__(marca, nombre, color, kilometraje)\n",
    "        self.__carga = 0\n",
    "\n",
    "    @property\n",
    "    def carga(self):\n",
    "        return self.__carga\n",
    "\n",
    "    @carga.setter\n",
    "    def carga(self, value):\n",
    "        nueva_carga = value\n",
    "        if nueva_carga > 100:\n",
    "            self.__carga = 100\n",
    "        elif nueva_carga < 0:\n",
    "            self.__carga = 0\n",
    "        else:\n",
    "            self.__carga = nueva_carga\n",
    "        print(f\"Mi batería está en {self.carga}\")\n",
    "    \n",
    "    def acelerar(self):\n",
    "        self.carga -= 10\n",
    "        print(f\"Whirrrrrr, mi batería ahora está en {self.carga}\")\n",
    "        self.aumentar_kilometraje(1)\n",
    "\n",
    "    def descuento_magico(self):\n",
    "        print(\"¡Soy un auto muy moderno y no bajaré de precio! >:c\")\n"
   ]
  },
  {
   "cell_type": "code",
   "execution_count": 4,
   "metadata": {
    "slideshow": {
     "slide_type": "slide"
    },
    "tags": []
   },
   "outputs": [
    {
     "name": "stdout",
     "output_type": "stream",
     "text": [
      "Mi batería está en 20\n",
      "Mi batería está en 10\n",
      "Whirrrrrr, mi batería ahora está en 10\n",
      "Brm brmmmm he avanzado 1 Km\n",
      "¡Soy un auto muy moderno y no bajaré de precio! >:c\n"
     ]
    }
   ],
   "source": [
    "auto_e = AutoElectrico(\"Honda\", \"Phill\", \"Rojo\", 100)\n",
    "auto_e.carga += 20\n",
    "auto_e.acelerar()\n",
    "auto_e.descuento_magico()"
   ]
  },
  {
   "cell_type": "markdown",
   "metadata": {
    "slideshow": {
     "slide_type": "slide"
    }
   },
   "source": [
    "### ¿Qué pasó con el método `descuento_magico`?"
   ]
  },
  {
   "cell_type": "markdown",
   "metadata": {
    "slideshow": {
     "slide_type": "subslide"
    }
   },
   "source": [
    "¡_Override_! Sobreescribimos un método de la clase desde la que heredamos por uno modificado que se ajusta a la clase hija. _Overloading_ es algo que no se puede hacer explícitamente en Python, pero funciones _built-in_ de Python, como `__lt__`, `__gt__`, que permiten comparar objetos, o `__str__` que permite invocar el método `print()`, son ejemplos de _overloading_ de operadores."
   ]
  },
  {
   "cell_type": "markdown",
   "metadata": {
    "slideshow": {
     "slide_type": "subslide"
    }
   },
   "source": [
    "También podríamos definir una nueva clase llamada _Avion_, que nos ayudará a ver el concepto de _duck typing_. Esta nueva clase tendrá el método `acelerar()`, pero este hará algo distinto."
   ]
  },
  {
   "cell_type": "code",
   "execution_count": null,
   "metadata": {
    "slideshow": {
     "slide_type": "slide"
    }
   },
   "outputs": [],
   "source": [
    "class Avion():\n",
    "    def __init__(self, modelo, horas_vuelo, combustible):\n",
    "        self.modelo = modelo\n",
    "        self.horas = horas_vuelo\n",
    "        self.__galones = combustible\n",
    "\n",
    "    @property\n",
    "    def galones(self):\n",
    "        return self.__galones\n",
    "\n",
    "    @galones.setter\n",
    "    def galones(self, value):\n",
    "        nuevo_galones = value\n",
    "        if nuevo_galones > 43.7:\n",
    "            self.__galones = 43.7\n",
    "        elif nuevo_galones < 0:\n",
    "            self.__galones = 0\n",
    "        else:\n",
    "            self.__galones = nuevo_galones\n",
    "        print(f\"Tengo {self.galones} litros\")\n",
    "    \n",
    "    def aumentar_horas(self, value):\n",
    "        if value > 0:\n",
    "            self.horas += value\n",
    "            print(f\"He volado {value} horas extra, en total {self.horas} horas.\")\n",
    "\n",
    "    def acelerar(self):\n",
    "        self.galones -= 0.2\n",
    "        print(f\"Woooosh, me quedan {self.galones} litros\")\n",
    "        self.aumentar_horas(1)\n",
    "\n",
    "def activar(avion):\n",
    "    avion.acelerar()"
   ]
  },
  {
   "cell_type": "code",
   "execution_count": null,
   "metadata": {
    "slideshow": {
     "slide_type": "slide"
    }
   },
   "outputs": [],
   "source": [
    "avion = Avion(\"Extra 300L\", 120, 13)\n",
    "print(\"---Avion---\")\n",
    "activar(avion)\n",
    "print(\"---AutoElectrico---\")\n",
    "activar(auto_e)"
   ]
  },
  {
   "cell_type": "markdown",
   "metadata": {
    "slideshow": {
     "slide_type": "slide"
    }
   },
   "source": [
    "## Ejercicio propuesto"
   ]
  },
  {
   "cell_type": "markdown",
   "metadata": {
    "slideshow": {
     "slide_type": "slide"
    }
   },
   "source": [
    "El siguiente ejercicio tiene como objetivo agrupar los contenidos de programación orientada a objetos de esta semana en un mismo problema. Para esto se describirá una situación la cual deberá ser modelada con un programa **Python**, utilizando **objetos**,  **properties**,**herencia** y **polimorfismo**."
   ]
  },
  {
   "cell_type": "markdown",
   "metadata": {
    "slideshow": {
     "slide_type": "slide"
    }
   },
   "source": [
    "Debido a la situación actual el **DCC** está desarrollando una nueva aplicación que contiene videos de diferentes tipos (clases grabadas y tutoriales... por ahora), sin embargo, estos no se encuentran con su información, ni tampoco respetan algunos requisitos respecto al formato. Por lo anterior, se te pide ayuda para modelar esta situación con **POO** y así poner orden a este contenido tan valioso. Te dan una serie de requerimientos que se enumeran a continuación."
   ]
  },
  {
   "cell_type": "markdown",
   "metadata": {
    "slideshow": {
     "slide_type": "slide"
    }
   },
   "source": [
    "1. Clase **Video**, tiene como atributos **nombre: str**, **sigla_curso: str**, **tag:None**, **calidad: str**, **reproducciones: 0**, **duracion: int**. En el caso de **calidad**, **reproducciones** y **duracion** son properties que implementan *getter* y *setter*, el *getter* solo devuelve el valor de la property y el *setter* verifica que el nuevo valor sea consistente. En particular, **calidad** solo puede ser 720 o 1080 se debe verificar al crear una instancia, **reproducciones** debe verificar que el nuevo valor sea mayor, ya que no se puede disminuir la cantidad de reproducciones, en caso contrario se debe alertar de que \"algo anda mal\", **duracion** no debe superar los **120 minutos** se debe imprimir cuando se exceda. El objeto se debe construir con los valores de **nombre**, **sigla_curso**, **duracion** y **calidad**."
   ]
  },
  {
   "cell_type": "code",
   "execution_count": null,
   "metadata": {},
   "outputs": [],
   "source": [
    "# Codificar clase Video\n",
    "class Video:\n",
    "    \n",
    "    def __init__(self, nombre, sigla_curso, duracion, calidad):\n",
    "        pass\n",
    "        "
   ]
  },
  {
   "cell_type": "markdown",
   "metadata": {
    "slideshow": {
     "slide_type": "slide"
    }
   },
   "source": [
    "2. Clase **ClaseGrabada** hereda de **Video**, tiene como atributos **nombre: str**, **sigla_curso: str**, **tag:None**, **calidad: str**, **reproducciones: 0**, **duracion: int**. En este caso **tag** va a variar dependiendo de la cantidad de **reproducciones**, si hay más de 1000 **reproducciones** entonces **tag** va a tomar el valor **\"popular\"**, este valor se puede **asignar cuando se desee** (por esta razón no es una property, un **ClaseGrabada** puede tener más de 1000 reproducciones y estar sin tag) y se debe imprimir el valor del **tag**, por lo que la lógica debe estar contenida en el método **def asignar_tag(self)**."
   ]
  },
  {
   "cell_type": "code",
   "execution_count": null,
   "metadata": {},
   "outputs": [],
   "source": [
    "# Codificar clase Tutorial.  Es posible que tengas que modificar el código dado.\n",
    "\n",
    "class Tutorial:\n",
    "    \n",
    "    def __init__(self, nombre, sigla_curso, duracion, calidad):\n",
    "        pass\n",
    "    "
   ]
  },
  {
   "cell_type": "markdown",
   "metadata": {},
   "source": [
    "3. Por último, debes probar que tu código funcione para eso debes correr las las siguientes celdas:"
   ]
  },
  {
   "cell_type": "code",
   "execution_count": null,
   "metadata": {},
   "outputs": [],
   "source": [
    "print(\"Creacion clase 1\")\n",
    "clase_grabada1 = ClaseGrabada(\"Programación Avanzada\", \"IIC2233\", 100, \"720\")\n",
    "\n",
    "print(\"\\nCreacion tutorial 1\")\n",
    "tutorial1 = ClaseGrabada(\"Instalación Python\", \"IIC2233\", 200, \"1080\")"
   ]
  },
  {
   "cell_type": "code",
   "execution_count": null,
   "metadata": {},
   "outputs": [],
   "source": [
    "# Actualizando reproducciones\n",
    "print(f\"Cantidad inicial: {clase_grabada1.reproducciones}\") # Cantidad inicial\n",
    "clase_grabada1.reproducciones = 30\n",
    "print(f\"\\nCantidad actualizada: {clase_grabada1.reproducciones}\") # Cantidad modificada"
   ]
  },
  {
   "cell_type": "code",
   "execution_count": null,
   "metadata": {},
   "outputs": [],
   "source": [
    "# Si intentamos bajar las reproducciones\n",
    "clase_grabada1.reproducciones = 29"
   ]
  },
  {
   "cell_type": "code",
   "execution_count": null,
   "metadata": {},
   "outputs": [],
   "source": [
    "# Asignar tags\n",
    "tutorial1.reproducciones = 3000 # Subimos a más de 2000 reproducciones\n",
    "\n",
    "# Asignamos el tag\n",
    "tutorial1.asignar_tag()"
   ]
  }
 ],
 "metadata": {
  "celltoolbar": "Slideshow",
  "kernelspec": {
   "display_name": "Python 3",
   "language": "python",
   "name": "python3"
  },
  "language_info": {
   "codemirror_mode": {
    "name": "ipython",
    "version": 3
   },
   "file_extension": ".py",
   "mimetype": "text/x-python",
   "name": "python",
   "nbconvert_exporter": "python",
   "pygments_lexer": "ipython3",
   "version": "3.6.9"
  }
 },
 "nbformat": 4,
 "nbformat_minor": 4
}
