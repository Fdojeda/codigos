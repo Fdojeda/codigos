{
 "cells": [
  {
   "cell_type": "markdown",
   "metadata": {
    "slideshow": {
     "slide_type": "slide"
    }
   },
   "source": [
    "# Ayudantía 03: OOPII\n",
    "\n",
    "## Autores: @Jirarrazaval & @Juan379 & @Dnpoblete"
   ]
  },
  {
   "cell_type": "markdown",
   "metadata": {
    "slideshow": {
     "slide_type": "subslide"
    }
   },
   "source": [
    "Puedes evluar esta ayudantía en [este link](https://docs.google.com/forms/d/e/1FAIpQLSesBxOc3Ux5hR-da2I1dJJHW-ym9Ho5VDVjCiM4nCYPMmm7tQ/viewform?usp=sf_link)"
   ]
  },
  {
   "cell_type": "markdown",
   "metadata": {
    "slideshow": {
     "slide_type": "slide"
    }
   },
   "source": [
    "## Contenidos:\n",
    "- Diagramas de clases.\n",
    "- Clases abstractas.\n",
    "- Multiherencia.\n",
    "- \\*args **kwargs."
   ]
  },
  {
   "cell_type": "markdown",
   "metadata": {
    "slideshow": {
     "slide_type": "slide"
    }
   },
   "source": [
    "## Diagrama de Clases\n",
    "\n",
    "El **diagrama de clases** es una herramienta muy útil que **permite visualizar fácilmente las clases que componen un sistema**, sus atributos, métodos y las interacciones que existen entre ellas.  Pero ... **¿Para qué sirve?** \n",
    "\n",
    "Para **planificar de forma clara y sencilla nuestros programas.**"
   ]
  },
  {
   "cell_type": "markdown",
   "metadata": {
    "slideshow": {
     "slide_type": "slide"
    }
   },
   "source": [
    "## Elementos de un diagrama de clases\n",
    "Para aprender esto lo veremos con \n",
    "\n",
    "<img src=\"img/mario.jpg\" width=\"700\" height=\"700\">"
   ]
  },
  {
   "cell_type": "markdown",
   "metadata": {
    "slideshow": {
     "slide_type": "slide"
    }
   },
   "source": [
    "### Diagrama de clases de Mario\n",
    "\n",
    "<img src=\"img/diagrama.png\" width=\"700\" height=\"700\">"
   ]
  },
  {
   "cell_type": "markdown",
   "metadata": {
    "slideshow": {
     "slide_type": "slide"
    }
   },
   "source": [
    "## En la ayudantía pasada vimos ..."
   ]
  },
  {
   "cell_type": "markdown",
   "metadata": {
    "slideshow": {
     "slide_type": "subslide"
    }
   },
   "source": [
    "### Clases\n",
    "\n",
    "Gráficamente, como muestra la figura a continuación, representaremos una clase con un rectángulo dividido en tres niveles. \n",
    "\n",
    "- El primer nivel contiene el nombre de la clase.\n",
    "- El segundo contiene los atributos (nombre y tipo de variable).\n",
    "- El tercero contiene los métodos propios de la clase (nombre, parámetros que recibe y tipo de variable que retorna)."
   ]
  },
  {
   "cell_type": "markdown",
   "metadata": {
    "slideshow": {
     "slide_type": "subslide"
    }
   },
   "source": [
    "<img src=\"img/clases.jpg\">\n",
    "\n",
    "**Notar que no es necesario que el segundo y tercer nivel tengan elementos.**"
   ]
  },
  {
   "cell_type": "markdown",
   "metadata": {
    "slideshow": {
     "slide_type": "slide"
    }
   },
   "source": [
    "### Herencia\n",
    "Esta relación de herencia se define gráficamente con una flecha de punta vacía que apunta hacia la superclase, como muestra la siguiente figura.\n",
    "\n",
    "<img src=\"img/herencia.png\">"
   ]
  },
  {
   "cell_type": "markdown",
   "metadata": {
    "slideshow": {
     "slide_type": "slide"
    }
   },
   "source": [
    "## Ahora veremos cosas nuevas"
   ]
  },
  {
   "cell_type": "markdown",
   "metadata": {
    "slideshow": {
     "slide_type": "subslide"
    }
   },
   "source": [
    "### Relaciones\n",
    "\n",
    "Los diagramas de clases explican cómo ocurre la interacción entre las clases dentro del sistema que modelamos. Las relaciones más comunes son: **composición**, **agregación** y **herencia**."
   ]
  },
  {
   "cell_type": "markdown",
   "metadata": {
    "slideshow": {
     "slide_type": "subslide"
    }
   },
   "source": [
    "#### Composición\n",
    "\n",
    "En este tipo de relación, los objetos de la clase que creamos se contruyen a partir de la **inclusión** de otros elementos. La existencia de los objetos incluidos depende de la existencia del objeto que los incluye. La relación de composición entre clases se indica por una flecha que parte desde el objeto base y va hasta el objeto que incluimos. La base de la flecha es un **rombo relleno**. "
   ]
  },
  {
   "cell_type": "markdown",
   "metadata": {
    "slideshow": {
     "slide_type": "subslide"
    }
   },
   "source": [
    "#### Agregación\n",
    "\n",
    "En este tipo de relación también construimos la clase base usando otros objetos, pero en este caso, el tiempo de vida del objeto que agregamos es **independiente** del tiempo de vida del objeto que lo incluye. La asociación entre los objetos se indica por una flecha que parte desde el objeto base y va hasta el objeto que agregamos. La base de la flecha es un **rombo sin rellenar**."
   ]
  },
  {
   "cell_type": "markdown",
   "metadata": {
    "slideshow": {
     "slide_type": "subslide"
    }
   },
   "source": [
    "#### Cardinalidad de las relaciones\n",
    "\n",
    "Tanto para la composición como la agregación, utilizaremos el concepto de **cardinalidad** para indicar el grado y nivel de dependencia entre las relaciones. La cardinalidad la indicamos en cada extremo de la relación. Los posibles casos de cardinalidad son:\n",
    "\n",
    "- 1 o muchos: 1..*\n",
    "- 0 o muchos: 0..*\n",
    "- Número fijo: n"
   ]
  },
  {
   "cell_type": "markdown",
   "metadata": {
    "slideshow": {
     "slide_type": "slide"
    }
   },
   "source": [
    "<img src=\"img/diagrama.png\" width=\"700\" height=\"700\">"
   ]
  },
  {
   "cell_type": "markdown",
   "metadata": {
    "slideshow": {
     "slide_type": "slide"
    }
   },
   "source": [
    "# Clases Abstractas"
   ]
  },
  {
   "cell_type": "markdown",
   "metadata": {
    "slideshow": {
     "slide_type": "subslide"
    }
   },
   "source": [
    "### ¿Qué son?\n",
    "\n",
    "Son clases que no pueden ser instanciadas, sino que permiten modelar otras clases en base a ellas. Por lo general, no son *subclasadas*, sino que de ellas \"nacen\" otras clases. Contienen uno o más **métodos abstractos** y sus **subclases** los **deben** implementar."
   ]
  },
  {
   "cell_type": "markdown",
   "metadata": {
    "slideshow": {
     "slide_type": "subslide"
    }
   },
   "source": [
    "### ¿Por qué?\n",
    "\n",
    "Son útiles ya que permiten desarrollar **\"templates\"** para otras clases, esto asegura consistencia entre métodos que se **deban** implementar (**abstract methods**). Además, permite desarrollar métodos normales y que se hereden a sus clases hijas. "
   ]
  },
  {
   "cell_type": "markdown",
   "metadata": {
    "slideshow": {
     "slide_type": "subslide"
    }
   },
   "source": [
    "### ¿Cómo se implementa?\n",
    "\n",
    "Se debe utilizar métodos del módulo **abc**.  En particular **ABC** debe ser padre de nuestra clase abstracta y para definir un método abstracto se debe importar **abstractmethod**. Como en el código que se ve a continuación: "
   ]
  },
  {
   "cell_type": "code",
   "execution_count": 1,
   "metadata": {
    "slideshow": {
     "slide_type": "subslide"
    }
   },
   "outputs": [],
   "source": [
    "from abc import ABC, abstractmethod\n",
    "\n",
    "class Base(ABC):\n",
    "    \n",
    "    def __init__(self, nombre):\n",
    "        self.nombre = nombre\n",
    "        self.contador = 0\n",
    "   \n",
    "    def metodo_1(self):\n",
    "        self.contador += 1\n",
    "\n",
    "    @abstractmethod\n",
    "    def metodo_2(self):\n",
    "        self.contador += 2 "
   ]
  },
  {
   "cell_type": "markdown",
   "metadata": {
    "slideshow": {
     "slide_type": "slide"
    }
   },
   "source": [
    "# Multiherencia\n",
    "\n",
    "Para aprender esto lo veremos con \n",
    "\n",
    "<img src=\"img/avatar.png\" width=\"500\" height=\"500\">"
   ]
  },
  {
   "cell_type": "markdown",
   "metadata": {
    "slideshow": {
     "slide_type": "subslide"
    }
   },
   "source": [
    "Así como la semana pasada se vio que una clase podía heredar datos de otra clase previamente creada, tambien es posible que se herede de **más de una.** A esto se le llama **multiherencia** (bastante descriptivo)."
   ]
  },
  {
   "cell_type": "markdown",
   "metadata": {
    "slideshow": {
     "slide_type": "subslide"
    }
   },
   "source": [
    "Un ejemplo de esto puede ser la clase `Avatar`, la cual se puede formar a partir de cuatro clases preexistentes: `MaestroFuego`, `MaestroAgua`, `MaestroTierra` y `MaestroAire`. Estas últimas heredan de la clase abstracta `Maestro`.\n",
    "\n",
    "Primero se define esta clase abstracta:"
   ]
  },
  {
   "cell_type": "code",
   "execution_count": 2,
   "metadata": {
    "slideshow": {
     "slide_type": "subslide"
    }
   },
   "outputs": [],
   "source": [
    "from abc import ABC, abstractmethod\n",
    "\n",
    "class Maestro(ABC):\n",
    "    \n",
    "    def __init__(self, nombre, tipo):\n",
    "        self.nombre = nombre\n",
    "        self.tipo = tipo\n",
    "        self.poder = 10\n",
    "        self.sabiduria = 10\n",
    "        self.agilidad = 10\n",
    "        self.potencia = 10\n",
    "        self.__vida = 75\n",
    "\n",
    "    @property\n",
    "    def vida(self):\n",
    "        return self.__vida\n",
    "    \n",
    "    @vida.setter\n",
    "    def vida(self, nuevo_valor):\n",
    "        if nuevo_valor > 100:\n",
    "            self.__vida = 100\n",
    "        elif nuevo_valor < 0:\n",
    "            self.__vida = 0\n",
    "        else:\n",
    "            self.__vida = nuevo_valor\n",
    "            \n",
    "    def __str__(self):\n",
    "        return f\"Hola, mi nombre es {self.nombre} y soy un maestro de tipo {self.tipo}\"\n",
    "    \n",
    "    def llamar(self):\n",
    "        print(\"Llamando a maestro\")\n",
    "        self.num_llamadas_maestro += 1\n",
    "    \n",
    "    @abstractmethod \n",
    "    def ataque(self):\n",
    "        pass"
   ]
  },
  {
   "cell_type": "markdown",
   "metadata": {
    "slideshow": {
     "slide_type": "subslide"
    }
   },
   "source": [
    "Luego se definen los cuatro tipos de maestro que heredan de esta clase:"
   ]
  },
  {
   "cell_type": "code",
   "execution_count": 3,
   "metadata": {
    "slideshow": {
     "slide_type": "subslide"
    }
   },
   "outputs": [],
   "source": [
    "class MaestroFuego(Maestro):\n",
    "    \n",
    "    def __init__(self, nombre, tipo):\n",
    "        super().__init__(nombre, tipo)\n",
    "        self.poder = 25\n",
    "    \n",
    "    def ataque(self):\n",
    "        cuerpo = 3 * self.poder + 2 * self.potencia\n",
    "        mente = self.sabiduria + self.agilidad\n",
    "        return cuerpo + mente"
   ]
  },
  {
   "cell_type": "code",
   "execution_count": 4,
   "metadata": {
    "slideshow": {
     "slide_type": "subslide"
    }
   },
   "outputs": [],
   "source": [
    "class MaestroAgua(Maestro):\n",
    "    \n",
    "    def __init__(self, nombre, tipo):\n",
    "        super().__init__(nombre, tipo)\n",
    "        self.sabiduria = 35\n",
    "    \n",
    "    def ataque(self):\n",
    "        cuerpo = self.poder + self.potencia\n",
    "        mente = 3 * self.sabiduria + 2 * self.agilidad\n",
    "        return cuerpo + mente"
   ]
  },
  {
   "cell_type": "code",
   "execution_count": 5,
   "metadata": {
    "slideshow": {
     "slide_type": "subslide"
    }
   },
   "outputs": [],
   "source": [
    "class MaestroTierra(Maestro):\n",
    "    \n",
    "    def __init__(self, nombre, tipo):\n",
    "        super().__init__(nombre, tipo)\n",
    "        self.potencia = 45\n",
    "    \n",
    "    def ataque(self):\n",
    "        cuerpo = 2 * self.poder + 3 * self.potencia\n",
    "        mente = self.sabiduria + self.agilidad\n",
    "        return cuerpo + mente"
   ]
  },
  {
   "cell_type": "code",
   "execution_count": 6,
   "metadata": {
    "slideshow": {
     "slide_type": "subslide"
    }
   },
   "outputs": [],
   "source": [
    "class MaestroAire(Maestro):\n",
    "    \n",
    "    def __init__(self, nombre, tipo):\n",
    "        super().__init__(nombre, tipo)\n",
    "        self.agilidad = 55\n",
    "    \n",
    "    def ataque(self):\n",
    "        cuerpo = self.poder + self.potencia\n",
    "        mente = 2 * self.sabiduria + 3* self.agilidad\n",
    "        return cuerpo + mente"
   ]
  },
  {
   "cell_type": "markdown",
   "metadata": {
    "slideshow": {
     "slide_type": "subslide"
    }
   },
   "source": [
    "Y por último la clase `Avatar` que hereda de los cuatro maestros:"
   ]
  },
  {
   "cell_type": "code",
   "execution_count": 7,
   "metadata": {
    "slideshow": {
     "slide_type": "subslide"
    }
   },
   "outputs": [],
   "source": [
    "class Avatar(MaestroFuego, MaestroAire, MaestroTierra, MaestroAgua):\n",
    "    \n",
    "    def __init__(self, nombre, tipo):\n",
    "        super().__init__(nombre, tipo)\n",
    "    \n",
    "    def ataque(self):\n",
    "        if self.tipo == \"Fuego\":\n",
    "            return MaestroFuego.ataque(self)\n",
    "        elif self.tipo == \"Tierra\":\n",
    "            return MaestroTierra.ataque(self)\n",
    "        elif self.tipo == \"Aire\":\n",
    "            return MaestroAire.ataque(self)\n",
    "        elif self.tipo == \"Agua\":\n",
    "            return MaestroAgua.ataque(self)"
   ]
  },
  {
   "cell_type": "markdown",
   "metadata": {
    "slideshow": {
     "slide_type": "slide"
    }
   },
   "source": [
    "\n",
    "## ¡Problema del diamante! 😨"
   ]
  },
  {
   "cell_type": "markdown",
   "metadata": {
    "slideshow": {
     "slide_type": "subslide"
    }
   },
   "source": [
    "Fijémosnos en el método `llamar` de `Avatar`, en donde se llama al maestro de fuego y agua\n",
    "\n",
    "Este muestra lo que ocurre en un contexto de multiherencia si es que cada subclase llama directamente a inicializar a todas sus superclases. A este modelo que se forma le llamamos _jerarquía de **diamante**_.\n",
    "\n",
    "<img src=\"img/diamante.png\" width=\"300\" height=\"300\">"
   ]
  },
  {
   "cell_type": "code",
   "execution_count": 8,
   "metadata": {
    "slideshow": {
     "slide_type": "slide"
    }
   },
   "outputs": [],
   "source": [
    "from abc import ABC, abstractmethod\n",
    "\n",
    "class Maestro(ABC):\n",
    "    \n",
    "    def __init__(self, nombre, tipo):\n",
    "        self.nombre = nombre\n",
    "        self.tipo = tipo\n",
    "        self.poder = 10\n",
    "        self.sabiduria = 10\n",
    "        self.agilidad = 10\n",
    "        self.potencia = 10\n",
    "        self.__vida = 75\n",
    "        self.num_llamadas_maestro = 0\n",
    "\n",
    "    @property\n",
    "    def vida(self):\n",
    "        return self.__vida\n",
    "    \n",
    "    @vida.setter\n",
    "    def vida(self, nuevo_valor):\n",
    "        if nuevo_valor > 100:\n",
    "            self.__vida = 100\n",
    "        elif nuevo_valor < 0:\n",
    "            self.__vida = 0\n",
    "        else:\n",
    "            self.__vida = nuevo_valor\n",
    "            \n",
    "    def __str__(self):\n",
    "        return f\"Hola, mi nombre es {self.nombre} y soy un maestro de tipo {self.tipo}\"\n",
    "    \n",
    "    def llamar(self):\n",
    "        print(\"Llamando a maestro\")\n",
    "        self.num_llamadas_maestro += 1\n",
    "    \n",
    "    @abstractmethod \n",
    "    def ataque(self):\n",
    "        pass\n",
    "    \n",
    "    \n",
    "class MaestroFuego(Maestro):\n",
    "    \n",
    "    def __init__(self, nombre, tipo):\n",
    "        super().__init__(nombre, tipo)\n",
    "        self.poder = 25\n",
    "        self.num_llamadas_fuego = 0\n",
    "    \n",
    "    def ataque(self):\n",
    "        cuerpo = 3 * self.poder + 2 * self.potencia\n",
    "        mente = self.sabiduria + self.agilidad\n",
    "        return cuerpo + mente\n",
    "    \n",
    "    def llamar(self):\n",
    "        print(\"Estoy en Fuego\")\n",
    "        Maestro.llamar(self)\n",
    "        self.num_llamadas_fuego += 1\n",
    "        \n",
    "        \n",
    "class MaestroAgua(Maestro):\n",
    "    \n",
    "    def __init__(self, nombre, tipo):\n",
    "        super().__init__(nombre, tipo)\n",
    "        self.sabiduria = 35\n",
    "        self.num_llamadas_agua = 0\n",
    "    \n",
    "    def ataque(self):\n",
    "        cuerpo = self.poder + self.potencia\n",
    "        mente = 3 * self.sabiduria + 2 * self.agilidad\n",
    "        return cuerpo + mente\n",
    "    \n",
    "    def llamar(self):\n",
    "        print(\"Estoy en Agua\")\n",
    "        Maestro.llamar(self)\n",
    "        self.num_llamadas_agua += 1\n",
    "        \n",
    "        \n",
    "class Avatar(MaestroFuego, MaestroAgua):\n",
    "    \n",
    "    def __init__(self, nombre, tipo):\n",
    "        super().__init__(nombre, tipo)\n",
    "        self.num_llamadas_avatar = 0\n",
    "    \n",
    "    def ataque():\n",
    "        pass\n",
    "\n",
    "    def modo_avatar():\n",
    "        pass\n",
    "        \n",
    "    def llamar(self):\n",
    "        print(\"Estoy en Avatar\")        \n",
    "        MaestroFuego.llamar(self)\n",
    "        MaestroAgua.llamar(self)\n",
    "        self.num_llamadas_avatar += 1"
   ]
  },
  {
   "cell_type": "code",
   "execution_count": 9,
   "metadata": {
    "slideshow": {
     "slide_type": "subslide"
    }
   },
   "outputs": [
    {
     "name": "stdout",
     "output_type": "stream",
     "text": [
      "Estoy en Avatar\n",
      "Estoy en Fuego\n",
      "Llamando a maestro\n",
      "Estoy en Agua\n",
      "Llamando a maestro\n",
      "\n",
      "Llamadas en Avatar: 1\n",
      "Llamadas en MaestroFuego: 1\n",
      "Llamadas en MaestroAgua: 1\n",
      "Llamadas en Maestro: 2\n"
     ]
    }
   ],
   "source": [
    "avatar = Avatar(\"Dani\", \"Agua\")\n",
    "avatar.llamar()\n",
    "print()\n",
    "print(f\"Llamadas en Avatar: {avatar.num_llamadas_avatar}\")\n",
    "print(f\"Llamadas en MaestroFuego: {avatar.num_llamadas_fuego}\")\n",
    "print(f\"Llamadas en MaestroAgua: {avatar.num_llamadas_agua}\")\n",
    "print(f\"Llamadas en Maestro: {avatar.num_llamadas_maestro}\")"
   ]
  },
  {
   "cell_type": "markdown",
   "metadata": {
    "slideshow": {
     "slide_type": "slide"
    }
   },
   "source": [
    "Podemos apreciar que el método `llamar` de la clase de más arriba en la jerarquía (`Maestro`) fue llamada dos veces. Luego de cada ejecución de `llamar`, la secuencia de invocaciones sube por la jerarquía hasta el método correspondiente en `Avatar`.\n",
    "\n",
    "La estructura de jerarquía en forma de diamante ocurre **siempre** que tengamos una clase que hereda de dos clases, aun cuando no tengamos una tercera superclase explícita. ¿Por qué? Porque en Python (y en varios lenguajes OOP), existe una clase [`object`](https://docs.python.org/3.6/library/functions.html#object) de la cual heredan **todas** las clases que creamos."
   ]
  },
  {
   "cell_type": "markdown",
   "metadata": {
    "slideshow": {
     "slide_type": "slide"
    }
   },
   "source": [
    "## Solución 🙌"
   ]
  },
  {
   "cell_type": "markdown",
   "metadata": {
    "slideshow": {
     "slide_type": "subslide"
    }
   },
   "source": [
    "La forma de abordar este problema es que cada clase llame a la clase que le \"precede\" en el orden del esquema. En python, esta jerarquía posee un orden definido **de izquierda a derecha** de las super clases que la componen."
   ]
  },
  {
   "cell_type": "markdown",
   "metadata": {
    "slideshow": {
     "slide_type": "subslide"
    }
   },
   "source": [
    "Volviendo al ejemplo anterior, esta jerarquía tendria la forma:\n",
    "\n",
    "**`Avatar` $\\Large\\rightarrow$ `MaestroFuego` $\\Large\\rightarrow$ `MaestroAgua` $\\Large\\rightarrow$ `Maestro`**"
   ]
  },
  {
   "cell_type": "markdown",
   "metadata": {
    "slideshow": {
     "slide_type": "subslide"
    }
   },
   "source": [
    "Python nos ofrece `super()` para seguir esta jerarquía de forma automática y solucionar nuestro problema.\n",
    "\n",
    "Intentémoslo!"
   ]
  },
  {
   "cell_type": "code",
   "execution_count": 10,
   "metadata": {
    "slideshow": {
     "slide_type": "subslide"
    }
   },
   "outputs": [
    {
     "name": "stdout",
     "output_type": "stream",
     "text": [
      "Estoy en Avatar\n",
      "Estoy en Fuego\n",
      "Estoy en Agua\n",
      "Llamando a maestro\n",
      "\n",
      "Llamadas en Avatar: 1\n",
      "Llamadas en MaestroFuego: 1\n",
      "Llamadas en MaestroAgua: 1\n",
      "Llamadas en Maestro: 1\n"
     ]
    }
   ],
   "source": [
    "class MaestroFuego(Maestro):\n",
    "    \n",
    "    def __init__(self, nombre, tipo):\n",
    "        super().__init__(nombre, tipo)\n",
    "        self.poder = 25\n",
    "        self.num_llamadas_fuego = 0\n",
    "    \n",
    "    def ataque(self):\n",
    "        pass\n",
    "    \n",
    "    def llamar(self):\n",
    "        print(\"Estoy en Fuego\")\n",
    "        super().llamar()\n",
    "        self.num_llamadas_fuego += 1\n",
    "    \n",
    "\n",
    "class MaestroAgua(Maestro):\n",
    "    \n",
    "    def __init__(self, nombre, tipo):\n",
    "        super().__init__(nombre, tipo)\n",
    "        self.sabiduria = 35\n",
    "        self.num_llamadas_agua = 0\n",
    "    \n",
    "    def ataque(self):\n",
    "        pass\n",
    "    \n",
    "    \n",
    "    def llamar(self):\n",
    "        print(\"Estoy en Agua\")\n",
    "        super().llamar()\n",
    "        self.num_llamadas_agua += 1\n",
    "        \n",
    "        \n",
    "        \n",
    "class Avatar(MaestroFuego, MaestroAgua):\n",
    "    \n",
    "    def __init__(self, nombre, tipo):\n",
    "        super().__init__(nombre, tipo)\n",
    "        self.num_llamadas_avatar = 0\n",
    "    \n",
    "    def ataque():\n",
    "        pass\n",
    "\n",
    "    def modo_avatar():\n",
    "        pass\n",
    "        \n",
    "    def llamar(self):\n",
    "        print(\"Estoy en Avatar\")        \n",
    "        super().llamar()\n",
    "        self.num_llamadas_avatar += 1\n",
    "\n",
    "avatar = Avatar(\"Dani\", \"Agua\")\n",
    "avatar.llamar()\n",
    "print()\n",
    "print(f\"Llamadas en Avatar: {avatar.num_llamadas_avatar}\")\n",
    "print(f\"Llamadas en MaestroFuego: {avatar.num_llamadas_fuego}\")\n",
    "print(f\"Llamadas en MaestroAgua: {avatar.num_llamadas_agua}\")\n",
    "print(f\"Llamadas en Maestro: {avatar.num_llamadas_maestro}\")"
   ]
  },
  {
   "cell_type": "markdown",
   "metadata": {},
   "source": [
    "## Ahora veremos \\*args y \\**kwargs"
   ]
  },
  {
   "cell_type": "markdown",
   "metadata": {
    "slideshow": {
     "slide_type": "slide"
    }
   },
   "source": [
    "## Ejemplo del académico."
   ]
  },
  {
   "cell_type": "code",
   "execution_count": 11,
   "metadata": {
    "slideshow": {
     "slide_type": "subslide"
    }
   },
   "outputs": [
    {
     "name": "stdout",
     "output_type": "stream",
     "text": [
      "(<class '__main__.Academico'>, <class '__main__.Docente'>, <class '__main__.Investigador'>, <class 'object'>)\n"
     ]
    },
    {
     "ename": "TypeError",
     "evalue": "__init__() takes 2 positional arguments but 3 were given",
     "output_type": "error",
     "traceback": [
      "\u001b[0;31m---------------------------------------------------------------------------\u001b[0m",
      "\u001b[0;31mTypeError\u001b[0m                                 Traceback (most recent call last)",
      "\u001b[0;32m<ipython-input-11-da0148837794>\u001b[0m in \u001b[0;36m<module>\u001b[0;34m\u001b[0m\n\u001b[1;32m     23\u001b[0m \u001b[0;34m\u001b[0m\u001b[0m\n\u001b[1;32m     24\u001b[0m \u001b[0mprint\u001b[0m\u001b[0;34m(\u001b[0m\u001b[0mAcademico\u001b[0m\u001b[0;34m.\u001b[0m\u001b[0m__mro__\u001b[0m\u001b[0;34m)\u001b[0m\u001b[0;34m\u001b[0m\u001b[0;34m\u001b[0m\u001b[0m\n\u001b[0;32m---> 25\u001b[0;31m \u001b[0mp1\u001b[0m \u001b[0;34m=\u001b[0m \u001b[0mAcademico\u001b[0m\u001b[0;34m(\u001b[0m\u001b[0;34m\"Emilia Donoso\"\u001b[0m\u001b[0;34m,\u001b[0m \u001b[0;34m\"O-5\"\u001b[0m\u001b[0;34m,\u001b[0m \u001b[0;34m\"Inteligencia de Máquina\"\u001b[0m\u001b[0;34m,\u001b[0m \u001b[0;34m\"Ciencia De La Computación\"\u001b[0m\u001b[0;34m)\u001b[0m\u001b[0;34m\u001b[0m\u001b[0;34m\u001b[0m\u001b[0m\n\u001b[0m\u001b[1;32m     26\u001b[0m \u001b[0mprint\u001b[0m\u001b[0;34m(\u001b[0m\u001b[0mp1\u001b[0m\u001b[0;34m.\u001b[0m\u001b[0mnombre\u001b[0m\u001b[0;34m)\u001b[0m\u001b[0;34m\u001b[0m\u001b[0;34m\u001b[0m\u001b[0m\n\u001b[1;32m     27\u001b[0m \u001b[0mprint\u001b[0m\u001b[0;34m(\u001b[0m\u001b[0mp1\u001b[0m\u001b[0;34m.\u001b[0m\u001b[0marea\u001b[0m\u001b[0;34m)\u001b[0m\u001b[0;34m\u001b[0m\u001b[0;34m\u001b[0m\u001b[0m\n",
      "\u001b[0;32m<ipython-input-11-da0148837794>\u001b[0m in \u001b[0;36m__init__\u001b[0;34m(self, nombre, oficina, area_investigacion, departamento)\u001b[0m\n\u001b[1;32m     17\u001b[0m     \u001b[0;32mdef\u001b[0m \u001b[0m__init__\u001b[0m\u001b[0;34m(\u001b[0m\u001b[0mself\u001b[0m\u001b[0;34m,\u001b[0m \u001b[0mnombre\u001b[0m\u001b[0;34m,\u001b[0m \u001b[0moficina\u001b[0m\u001b[0;34m,\u001b[0m \u001b[0marea_investigacion\u001b[0m\u001b[0;34m,\u001b[0m \u001b[0mdepartamento\u001b[0m\u001b[0;34m)\u001b[0m\u001b[0;34m:\u001b[0m\u001b[0;34m\u001b[0m\u001b[0;34m\u001b[0m\u001b[0m\n\u001b[1;32m     18\u001b[0m         \u001b[0;31m# Solo un llamado, con todos los argumentos que tenemos\u001b[0m\u001b[0;34m\u001b[0m\u001b[0;34m\u001b[0m\u001b[0;34m\u001b[0m\u001b[0m\n\u001b[0;32m---> 19\u001b[0;31m         \u001b[0msuper\u001b[0m\u001b[0;34m(\u001b[0m\u001b[0;34m)\u001b[0m\u001b[0;34m.\u001b[0m\u001b[0m__init__\u001b[0m\u001b[0;34m(\u001b[0m\u001b[0mdepartamento\u001b[0m\u001b[0;34m,\u001b[0m \u001b[0marea_investigacion\u001b[0m\u001b[0;34m)\u001b[0m\u001b[0;34m\u001b[0m\u001b[0;34m\u001b[0m\u001b[0m\n\u001b[0m\u001b[1;32m     20\u001b[0m         \u001b[0mself\u001b[0m\u001b[0;34m.\u001b[0m\u001b[0mnombre\u001b[0m \u001b[0;34m=\u001b[0m \u001b[0mnombre\u001b[0m\u001b[0;34m\u001b[0m\u001b[0;34m\u001b[0m\u001b[0m\n\u001b[1;32m     21\u001b[0m         \u001b[0mself\u001b[0m\u001b[0;34m.\u001b[0m\u001b[0moficina\u001b[0m \u001b[0;34m=\u001b[0m \u001b[0moficina\u001b[0m\u001b[0;34m\u001b[0m\u001b[0;34m\u001b[0m\u001b[0m\n",
      "\u001b[0;31mTypeError\u001b[0m: __init__() takes 2 positional arguments but 3 were given"
     ]
    }
   ],
   "source": [
    "class Investigador:\n",
    "    \n",
    "    def __init__(self, area):\n",
    "        print(\"Inicializando investigador\")\n",
    "        self.area = area\n",
    "        self.num_publicaciones = 0\n",
    "        \n",
    "        \n",
    "class Docente:\n",
    "    def __init__(self, departamento):\n",
    "        print(\"Inicializando docente\")\n",
    "        self.departamento = departamento\n",
    "        self.num_cursos = 3\n",
    "        \n",
    "        \n",
    "class Academico(Docente, Investigador):\n",
    "    def __init__(self, nombre, oficina, area_investigacion, departamento):\n",
    "        # Solo un llamado, con todos los argumentos que tenemos\n",
    "        super().__init__(departamento, area_investigacion)\n",
    "        self.nombre = nombre\n",
    "        self.oficina = oficina\n",
    "\n",
    "        \n",
    "print(Academico.__mro__)\n",
    "p1 = Academico(\"Emilia Donoso\", \"O-5\", \"Inteligencia de Máquina\", \"Ciencia De La Computación\")\n",
    "print(p1.nombre)\n",
    "print(p1.area)\n",
    "print(p1.departamento)"
   ]
  },
  {
   "cell_type": "markdown",
   "metadata": {
    "slideshow": {
     "slide_type": "slide"
    }
   },
   "source": [
    "## ¿Y los argumentos? 😰\n",
    "\n",
    "Nos pasa que ingresamos todos los argumentos que `Academico` recibe, pero `super().__init__` no sabe que argumentos son para cada superclase."
   ]
  },
  {
   "cell_type": "markdown",
   "metadata": {
    "slideshow": {
     "slide_type": "subslide"
    }
   },
   "source": [
    "### Solución: `*args` y `**kargs` 👏\n",
    "\n",
    "`*args` es un mecanismo similar. `*args`, es una *lista de argumentos de largo variable*, pero sin _keywords_ asociados. El operador `*` _desempaqueta_ el contenido de `args` y los pasa a la función como _argumentos posicionales_. La función asigna valores a sus argumentos a partir del orden que trae esta lista.\n",
    "\n",
    "`**kwargs` es una *secuencia de argumentos de largo variable*, donde cada elemento de la lista tiene asociado un ***keyword***. El operador `**` mapea los elementos contenidos en el diccionario `kwargs` y los pasa a la función como _argumentos no posicionales_."
   ]
  },
  {
   "cell_type": "markdown",
   "metadata": {
    "slideshow": {
     "slide_type": "slide"
    }
   },
   "source": [
    "## Código arreglado"
   ]
  },
  {
   "cell_type": "code",
   "execution_count": null,
   "metadata": {
    "slideshow": {
     "slide_type": "subslide"
    }
   },
   "outputs": [],
   "source": [
    "class Investigador:\n",
    "    \n",
    "    def __init__(self, area='', **kwargs):\n",
    "        print(f\"init Investigador con area {area} y kwargs:{kwargs}\")\n",
    "        super().__init__(**kwargs)        \n",
    "        self.area = area\n",
    "        self.num_publicaciones = 0\n",
    "        \n",
    "        \n",
    "class Docente:\n",
    "    \n",
    "    def __init__(self, departamento='', **kwargs):\n",
    "        print(f\"init Docente con depto {departamento} y kwargs:{kwargs}\")\n",
    "        super().__init__(**kwargs)\n",
    "        self.departamento = departamento\n",
    "        self.num_cursos = 3\n",
    "        \n",
    "        \n",
    "class Academico(Docente, Investigador):\n",
    "    \n",
    "    def __init__(self, nombre, oficina, **kwargs):\n",
    "        print(f\"init Academico con nombre {nombre}, oficina {oficina}, kwargs:{kwargs}\")\n",
    "        super().__init__(**kwargs)\n",
    "        self.nombre = nombre\n",
    "        self.oficina = oficina\n",
    "\n",
    "        \n",
    "print(Academico.__mro__)\n",
    "p1 = Academico(\"Emilia Donoso\", oficina=\"O5\", area=\"Inteligencia de Máquina\", departamento=\"Ciencia De La Computación\")\n",
    "print(\"--------\")\n",
    "print(p1.nombre)\n",
    "print(p1.area)\n",
    "print(p1.departamento)"
   ]
  },
  {
   "cell_type": "markdown",
   "metadata": {
    "slideshow": {
     "slide_type": "slide"
    }
   },
   "source": [
    "## Ejercicio propuesto🙌\n",
    "\n",
    "El recien inagurado DCCorral acaba de recibir su primer kit de instanciación de animales. Ese contine una clase abastracta `Animal` la cual está definida más abajo y puede ser utilizada para formar cualquier animal del mundo.\n",
    "\n",
    "Los científicos del DCCorral se han dispuesto que necesitan mostrar uno de los animales más fantásticos que se pueda haber visto, un **Zebrasno**. Este raro animal, como describe *Charles Darwin* se produce por la cruza de una Cebra y un Asno, por lo tanto, será necesario que ayudes a los científicos a recrear esta especie Zebrasno mediante la creación de la especie **Cebra** y la especia **Asno**, modelandolas como clases."
   ]
  },
  {
   "cell_type": "code",
   "execution_count": null,
   "metadata": {
    "slideshow": {
     "slide_type": "subslide"
    }
   },
   "outputs": [],
   "source": [
    "from abc import ABC, abstractmethod\n",
    "\n",
    "class Animal(ABC):\n",
    "    def __init__(self, numero_patas, piel, pulmones, aletas, *args, **kargs):\n",
    "        self.numero_patas = numero_patas\n",
    "        self.piel = piel\n",
    "        self.pulmones = pulmones\n",
    "        self.aletas = aletas\n",
    "    \n",
    "    @abstractmethod\n",
    "    def voz(self):\n",
    "        pass\n",
    "    \n",
    "    @abstractmethod\n",
    "    def caminar(self):\n",
    "        pass\n",
    "    \n",
    "    @abstractmethod\n",
    "    def comer(self):\n",
    "        pass"
   ]
  },
  {
   "cell_type": "markdown",
   "metadata": {
    "slideshow": {
     "slide_type": "subslide"
    }
   },
   "source": [
    "Para entender un poco mejor la clase `Animal`, está está definida como una clase abstracta que recibe los agumentos\n",
    "* `numero_patas`: un `int` que indica el número de patas del animal.\n",
    "* `pelaje`: un `str` que indica el tipo de pelaje que posee el animal.\n",
    "* `pulmones`: un `boolean` que indica la presencia de pulmones.\n",
    "* `aletas`: un `int` que indica la cantidad de aletas.\n",
    "\n",
    "También, como todo animal, posee los métodos\n",
    "* `voz`: que imprime el sonido del animal.\n",
    "* `caminar`: que imprime la forma de caminar del animal.\n",
    "* `comer`: que imprime como come el animal.\n",
    "\n",
    "Para poder llegar a crear la clase `Zebrasno` es necesario definir primero las siguientes clases de animales:\n",
    "\n",
    "**`Cebra`:**\n",
    "\n",
    "   Este animal posee 4 patas, pelos en la piel y un sistema respiratorio pulmonar.<br>\n",
    "   Además, para definir esta clase, es necesario agregar el atributo `rayas` que indique el tipo de rayas que posee, esto debe ser recibido por el constructor como un argumento.\n",
    "    \n",
    "* Su voz es un relincho que debe decir `\"HIN!! Tengo un pelaje con\" + {atributo rayas}`.<br>\n",
    "* Al caminar debe indicar `\"Tas, Tas, Tas. Camino sin herraduras\"`.<br>\n",
    "* Al comer debe indicar `\"Me encanta la hierba y la corteza de los árboles\"`.<br>\n",
    "    \n",
    "**`Asno`:**\n",
    "  \n",
    "   Este animal posee 4 patas, pelos en la piel y un sistema respiratorio pulmonar.<br>\n",
    "* Su voz es un relincho que debe deci `\"¡Hiaaaa, hiaaaa! Soy un Asno de laboratorio\"`.<br>\n",
    "* Al caminar debe indicar `\"Tas, Tas, Tas. Camino sin herraduras\"`.<br>\n",
    "* Al comer debe indicar `\"Siempre como pasto y arbustos fibrosos!\"`.<br>"
   ]
  },
  {
   "cell_type": "code",
   "execution_count": null,
   "metadata": {
    "slideshow": {
     "slide_type": "subslide"
    }
   },
   "outputs": [],
   "source": [
    "class Cebra(Animal):\n",
    "    pass\n",
    "\n",
    "        \n",
    "class Asno(Animal):\n",
    "    pass"
   ]
  },
  {
   "cell_type": "markdown",
   "metadata": {
    "slideshow": {
     "slide_type": "subslide"
    }
   },
   "source": [
    "Por último, los cinetíficos del DCCorral ya están listos para recrear la gran especie `Zebrasno` como hijo de las dos especies anteriores. Siguiendo las siguientes especificacones:\n",
    "\n",
    "   Este animal posee 4 patas, pelos en la piel y un sistema respiratorio pulmonar.<br>\n",
    "* Sus rayas son del tipo `\"rayas en las patas y cuello\"`.\n",
    "* Su voz es un relincho igual que el de `Cebra`.<br>\n",
    "* Al caminar lo hace igual que `Asno` y `Cebra`.<br>\n",
    "* Al comer debe decir lo que dicen ambos, `Asno` y `Cebra`.<br>"
   ]
  },
  {
   "cell_type": "code",
   "execution_count": null,
   "metadata": {
    "slideshow": {
     "slide_type": "subslide"
    }
   },
   "outputs": [],
   "source": [
    "class Zebrasno(Cebra, Asno):\n",
    "    pass"
   ]
  },
  {
   "cell_type": "code",
   "execution_count": null,
   "metadata": {
    "slideshow": {
     "slide_type": "subslide"
    }
   },
   "outputs": [],
   "source": [
    "nuevo = Zebrasno()\n",
    "print(\"El Zebrasno se oye así:\")\n",
    "nuevo.voz()\n",
    "print(\"\\nEl Zebrasno está comiendo:\")\n",
    "nuevo.comer()\n",
    "print(\"\\nAhora el Zebrasno está caminando:\")\n",
    "nuevo.caminar()"
   ]
  }
 ],
 "metadata": {
  "celltoolbar": "Slideshow",
  "kernelspec": {
   "display_name": "Python 3",
   "language": "python",
   "name": "python3"
  },
  "language_info": {
   "codemirror_mode": {
    "name": "ipython",
    "version": 3
   },
   "file_extension": ".py",
   "mimetype": "text/x-python",
   "name": "python",
   "nbconvert_exporter": "python",
   "pygments_lexer": "ipython3",
   "version": "3.6.9"
  }
 },
 "nbformat": 4,
 "nbformat_minor": 2
}
